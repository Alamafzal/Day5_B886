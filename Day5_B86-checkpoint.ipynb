{
 "cells": [
  {
   "cell_type": "code",
   "execution_count": 1,
   "id": "065eb5f4-609b-439e-9ea3-786f186694a4",
   "metadata": {},
   "outputs": [],
   "source": [
    "cars=['kia','maruthi','audi','toyota','benz','suzuki','bmw']"
   ]
  },
  {
   "cell_type": "raw",
   "id": "1e12558f-f085-4fe7-9632-1c54fae372d3",
   "metadata": {},
   "source": []
  },
  {
   "cell_type": "code",
   "execution_count": 2,
   "id": "99397fa8-1ae9-404b-91f6-7f5e4f8af373",
   "metadata": {},
   "outputs": [
    {
     "name": "stdout",
     "output_type": "stream",
     "text": [
      "['kia', 'maruthi', 'audi', 'toyota', 'benz', 'suzuki', 'bmw']\n"
     ]
    }
   ],
   "source": [
    "print(cars)"
   ]
  },
  {
   "cell_type": "code",
   "execution_count": null,
   "id": "9963d813-e3c7-45ba-a45e-894e2f4271f0",
   "metadata": {},
   "outputs": [],
   "source": []
  },
  {
   "cell_type": "code",
   "execution_count": 3,
   "id": "a8f9cc8f-a2e5-4c90-9a76-bc2bfb467ad7",
   "metadata": {},
   "outputs": [],
   "source": [
    "#req: I want to organize the list in the alphabetical order A-Z"
   ]
  },
  {
   "cell_type": "code",
   "execution_count": 6,
   "id": "52956c73-3878-49fa-bc45-0542262f4184",
   "metadata": {},
   "outputs": [
    {
     "name": "stdout",
     "output_type": "stream",
     "text": [
      "['audi', 'benz', 'bmw', 'kia', 'maruthi', 'suzuki', 'toyota']\n"
     ]
    }
   ],
   "source": [
    "print(sorted(cars))"
   ]
  },
  {
   "cell_type": "code",
   "execution_count": 7,
   "id": "a3e120a1-f050-44e5-bd46-3c89870d1f2c",
   "metadata": {},
   "outputs": [
    {
     "name": "stdout",
     "output_type": "stream",
     "text": [
      "['kia', 'maruthi', 'audi', 'toyota', 'benz', 'suzuki', 'bmw']\n"
     ]
    }
   ],
   "source": [
    "print (cars)"
   ]
  },
  {
   "cell_type": "code",
   "execution_count": null,
   "id": "ca16cda0-1037-414a-9b2a-6f54cd1472f1",
   "metadata": {},
   "outputs": [],
   "source": []
  },
  {
   "cell_type": "code",
   "execution_count": 8,
   "id": "2c2b8dca-0f63-4aa4-8731-7490a844f23d",
   "metadata": {},
   "outputs": [],
   "source": [
    "cars.sort()"
   ]
  },
  {
   "cell_type": "code",
   "execution_count": 9,
   "id": "32e156ad-8673-4e49-b43b-9369104b3237",
   "metadata": {},
   "outputs": [
    {
     "name": "stdout",
     "output_type": "stream",
     "text": [
      "['audi', 'benz', 'bmw', 'kia', 'maruthi', 'suzuki', 'toyota']\n"
     ]
    }
   ],
   "source": [
    "print(cars)"
   ]
  },
  {
   "cell_type": "code",
   "execution_count": null,
   "id": "af6c8645-b174-479d-a6c7-8715cd9a6e1e",
   "metadata": {},
   "outputs": [],
   "source": []
  },
  {
   "cell_type": "code",
   "execution_count": 10,
   "id": "870574b3-aa98-42ee-8930-4230f2046a0e",
   "metadata": {},
   "outputs": [
    {
     "name": "stdout",
     "output_type": "stream",
     "text": [
      "['audi', 'benz', 'bmw', 'kia', 'maruthi', 'suzuki', 'toyota']\n"
     ]
    }
   ],
   "source": [
    "print(cars)"
   ]
  },
  {
   "cell_type": "code",
   "execution_count": null,
   "id": "51448f39-069c-4bff-9a99-d552ec6aab53",
   "metadata": {},
   "outputs": [],
   "source": []
  },
  {
   "cell_type": "code",
   "execution_count": 11,
   "id": "564227d9-f428-4db3-919c-7c8eb68d9fe3",
   "metadata": {},
   "outputs": [
    {
     "data": {
      "text/plain": [
       "7"
      ]
     },
     "execution_count": 11,
     "metadata": {},
     "output_type": "execute_result"
    }
   ],
   "source": [
    "len(cars)"
   ]
  },
  {
   "cell_type": "code",
   "execution_count": null,
   "id": "e92970b9-0ee2-46ed-87a1-64b3e3227139",
   "metadata": {},
   "outputs": [],
   "source": []
  },
  {
   "cell_type": "code",
   "execution_count": 12,
   "id": "b412b3ad-8148-4ff2-af38-e5a0be6507a7",
   "metadata": {},
   "outputs": [],
   "source": [
    "# I want to slice the lsit datatypes"
   ]
  },
  {
   "cell_type": "code",
   "execution_count": 13,
   "id": "c43b87a1-326e-411e-ac94-e7bbf69a5b34",
   "metadata": {},
   "outputs": [],
   "source": [
    "students=['asha','likitha','naveed','joseph','kiran','murthi']"
   ]
  },
  {
   "cell_type": "code",
   "execution_count": 14,
   "id": "7e85552b-9cfe-4aad-a22d-d78773db2997",
   "metadata": {},
   "outputs": [
    {
     "name": "stdout",
     "output_type": "stream",
     "text": [
      "['asha', 'likitha', 'naveed', 'joseph', 'kiran', 'murthi']\n"
     ]
    }
   ],
   "source": [
    "print(students)"
   ]
  },
  {
   "cell_type": "code",
   "execution_count": null,
   "id": "7706a7c4-c4ba-4876-9ffb-5b714dcccf44",
   "metadata": {},
   "outputs": [],
   "source": []
  },
  {
   "cell_type": "code",
   "execution_count": 15,
   "id": "1336f38a-8513-4401-884a-6e908b480a64",
   "metadata": {},
   "outputs": [],
   "source": [
    "# general syntax of slicing"
   ]
  },
  {
   "cell_type": "code",
   "execution_count": 16,
   "id": "02ebecc0-7378-4d65-aea3-b3989379df0a",
   "metadata": {},
   "outputs": [],
   "source": [
    "# req: i wannt to include asha & likitha in the list"
   ]
  },
  {
   "cell_type": "code",
   "execution_count": 17,
   "id": "57eb6fe8-5fe6-4764-b9e2-5045ff4bdbbf",
   "metadata": {},
   "outputs": [
    {
     "name": "stdout",
     "output_type": "stream",
     "text": [
      "['asha']\n"
     ]
    }
   ],
   "source": [
    "print (students[0:1])"
   ]
  },
  {
   "cell_type": "code",
   "execution_count": 18,
   "id": "a306f09d-32ac-4d9a-bbff-39a18cf200cc",
   "metadata": {},
   "outputs": [
    {
     "name": "stdout",
     "output_type": "stream",
     "text": [
      "['asha', 'likitha']\n"
     ]
    }
   ],
   "source": [
    "print (students[0:2])"
   ]
  },
  {
   "cell_type": "code",
   "execution_count": null,
   "id": "11c32378-0eec-4219-b63a-21389ab2e2e2",
   "metadata": {},
   "outputs": [],
   "source": []
  },
  {
   "cell_type": "code",
   "execution_count": 19,
   "id": "036bc29a-7e3a-4e79-b9cc-9d66ad672d1d",
   "metadata": {},
   "outputs": [],
   "source": [
    "# req: include naveed & joseph in the list"
   ]
  },
  {
   "cell_type": "code",
   "execution_count": 20,
   "id": "58d09fc3-4d50-4469-a8b6-04e0fb7d94aa",
   "metadata": {},
   "outputs": [
    {
     "name": "stdout",
     "output_type": "stream",
     "text": [
      "['naveed', 'joseph']\n"
     ]
    }
   ],
   "source": [
    "print(students[2:4])"
   ]
  },
  {
   "cell_type": "code",
   "execution_count": null,
   "id": "d95964fb-31bd-4464-ad9e-9af650f5b2f4",
   "metadata": {},
   "outputs": [],
   "source": []
  },
  {
   "cell_type": "code",
   "execution_count": null,
   "id": "74d8272f-4f7e-49ff-b3ca-f975a7c3ce8a",
   "metadata": {},
   "outputs": [],
   "source": [
    "# req: include kiran & murthi in the list"
   ]
  },
  {
   "cell_type": "code",
   "execution_count": 21,
   "id": "bc346617-7c43-47a3-baa8-7c4678f35635",
   "metadata": {},
   "outputs": [
    {
     "name": "stdout",
     "output_type": "stream",
     "text": [
      "['kiran', 'murthi']\n"
     ]
    }
   ],
   "source": [
    "print(students[4:6])"
   ]
  },
  {
   "cell_type": "code",
   "execution_count": null,
   "id": "799ff077-404a-4f09-a589-cbd2a691052d",
   "metadata": {},
   "outputs": [],
   "source": []
  },
  {
   "cell_type": "code",
   "execution_count": 22,
   "id": "5eaa310d-8b77-4428-a339-2645a9634ebb",
   "metadata": {},
   "outputs": [],
   "source": [
    "# req: only alternate member"
   ]
  },
  {
   "cell_type": "code",
   "execution_count": 23,
   "id": "740b5cf8-95fa-4a9f-ba8f-f105eb7bd106",
   "metadata": {},
   "outputs": [
    {
     "name": "stdout",
     "output_type": "stream",
     "text": [
      "['asha', 'naveed', 'kiran']\n"
     ]
    }
   ],
   "source": [
    "print(students[0:6:2])"
   ]
  },
  {
   "cell_type": "code",
   "execution_count": 24,
   "id": "427b36cb-a9e6-46f9-af11-f117f0bd42fc",
   "metadata": {},
   "outputs": [
    {
     "name": "stdout",
     "output_type": "stream",
     "text": [
      "['asha', 'likitha', 'naveed', 'joseph', 'kiran', 'murthi']\n"
     ]
    }
   ],
   "source": [
    "print(students[0:6:1])"
   ]
  },
  {
   "cell_type": "code",
   "execution_count": 25,
   "id": "2a26608b-f60c-4242-9876-e50bacee7d5e",
   "metadata": {},
   "outputs": [
    {
     "name": "stdout",
     "output_type": "stream",
     "text": [
      "['asha', 'joseph']\n"
     ]
    }
   ],
   "source": [
    "print(students[0:6:3])"
   ]
  },
  {
   "cell_type": "code",
   "execution_count": 26,
   "id": "cb3f3493-3975-401d-803e-f4e7a1398176",
   "metadata": {},
   "outputs": [
    {
     "name": "stdout",
     "output_type": "stream",
     "text": [
      "['asha', 'kiran']\n"
     ]
    }
   ],
   "source": [
    "print(students[0:6:4])"
   ]
  },
  {
   "cell_type": "code",
   "execution_count": null,
   "id": "4c0e91b9-024b-435d-a7e5-77c0e5442a5a",
   "metadata": {},
   "outputs": [],
   "source": []
  },
  {
   "cell_type": "code",
   "execution_count": null,
   "id": "6ae2005f-eb9e-44af-b6f6-8e5c951d76be",
   "metadata": {},
   "outputs": [],
   "source": []
  }
 ],
 "metadata": {
  "kernelspec": {
   "display_name": "Python 3 (ipykernel)",
   "language": "python",
   "name": "python3"
  },
  "language_info": {
   "codemirror_mode": {
    "name": "ipython",
    "version": 3
   },
   "file_extension": ".py",
   "mimetype": "text/x-python",
   "name": "python",
   "nbconvert_exporter": "python",
   "pygments_lexer": "ipython3",
   "version": "3.11.7"
  }
 },
 "nbformat": 4,
 "nbformat_minor": 5
}
